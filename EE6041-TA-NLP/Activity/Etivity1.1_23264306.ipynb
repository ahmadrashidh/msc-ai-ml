{
  "nbformat": 4,
  "nbformat_minor": 0,
  "metadata": {
    "colab": {
      "provenance": []
    },
    "kernelspec": {
      "name": "python3",
      "display_name": "Python 3"
    },
    "language_info": {
      "name": "python"
    }
  },
  "cells": [
    {
      "cell_type": "markdown",
      "source": [
        "Name: Ahmad Rashidh Ameer Hamsha\n",
        "ID: 23264306"
      ],
      "metadata": {
        "id": "w0fsVOUC0wNF"
      }
    },
    {
      "cell_type": "code",
      "source": [
        "import re\n",
        "import csv"
      ],
      "metadata": {
        "id": "UKvcg-Dm00cl"
      },
      "execution_count": 2,
      "outputs": []
    },
    {
      "cell_type": "code",
      "source": [
        "!wget https://gist.githubusercontent.com/ajoorabchi/eac194a79dd26de8864f9206b7842ff1/raw/8ea1d8d5f74b5b2724e378b43d4df6094990c7db/Eircode%2520Routing%2520Key%2520Boundaries.csv\n",
        "filePath = \"/content/Eircode Routing Key Boundaries.csv\""
      ],
      "metadata": {
        "colab": {
          "base_uri": "https://localhost:8080/"
        },
        "id": "YYaqPFFu04Fg",
        "outputId": "3ca8733b-bcdc-4e84-c661-826327c3874e"
      },
      "execution_count": 3,
      "outputs": [
        {
          "output_type": "stream",
          "name": "stdout",
          "text": [
            "--2023-09-22 12:20:53--  https://gist.githubusercontent.com/ajoorabchi/eac194a79dd26de8864f9206b7842ff1/raw/8ea1d8d5f74b5b2724e378b43d4df6094990c7db/Eircode%2520Routing%2520Key%2520Boundaries.csv\n",
            "Resolving gist.githubusercontent.com (gist.githubusercontent.com)... 185.199.111.133, 185.199.109.133, 185.199.108.133, ...\n",
            "Connecting to gist.githubusercontent.com (gist.githubusercontent.com)|185.199.111.133|:443... connected.\n",
            "HTTP request sent, awaiting response... 200 OK\n",
            "Length: 1934 (1.9K) [text/plain]\n",
            "Saving to: ‘Eircode Routing Key Boundaries.csv’\n",
            "\n",
            "\r          Eircode R   0%[                    ]       0  --.-KB/s               \rEircode Routing Key 100%[===================>]   1.89K  --.-KB/s    in 0s      \n",
            "\n",
            "2023-09-22 12:20:54 (25.3 MB/s) - ‘Eircode Routing Key Boundaries.csv’ saved [1934/1934]\n",
            "\n"
          ]
        }
      ]
    },
    {
      "cell_type": "code",
      "source": [
        "with open(filePath, 'r') as f:\n",
        "  reader = csv.reader(f)\n",
        "  KeyRouteList = list(map(tuple, reader))\n",
        "\n",
        "print(KeyRouteList)"
      ],
      "metadata": {
        "colab": {
          "base_uri": "https://localhost:8080/"
        },
        "id": "kGPr7mvx1faG",
        "outputId": "98f65680-fced-4734-ff60-853e82230e90"
      },
      "execution_count": 43,
      "outputs": [
        {
          "output_type": "stream",
          "name": "stdout",
          "text": [
            "[('ROUTING KEY', 'DESCRIPTOR'), ('A41', 'BALLYBOUGHAL'), ('A42', 'GARRISTOWN'), ('A45', 'OLDTOWN'), ('A63', 'GREYSTONES'), ('A67', 'WICKLOW'), ('A75', 'CASTLEBLAYNEY'), ('A81', 'CARRICKMACROSS'), ('A82', 'KELLS'), ('A83', 'ENFIELD'), ('A84', 'ASHBOURNE'), ('A85', 'DUNSHAUGHLIN'), ('A86', 'DUNBOYNE'), ('A91', 'DUNDALK'), ('A92', 'DROGHEDA'), ('A94', 'BLACKROCK'), ('A96', 'GLENAGEARY'), ('A98', 'BRAY'), ('C15', 'NAVAN'), ('D01', 'DUBLIN 1'), ('D02', 'DUBLIN 2'), ('D03', 'DUBLIN 3'), ('D04', 'DUBLIN 4'), ('D05', 'DUBLIN 5'), ('D06', 'DUBLIN 6'), ('D07', 'DUBLIN 7'), ('D08', 'DUBLIN 8'), ('D09', 'DUBLIN 9'), ('D10', 'DUBLIN 10'), ('D11', 'DUBLIN 11'), ('D12', 'DUBLIN 12'), ('D13', 'DUBLIN 13'), ('D14', 'DUBLIN 14'), ('D15', 'DUBLIN 15'), ('D16', 'DUBLIN 16'), ('D17', 'DUBLIN 17'), ('D18', 'DUBLIN 18'), ('D20', 'DUBLIN 20'), ('D22', 'DUBLIN 22'), ('D24', 'DUBLIN 24'), ('D6W', 'DUBLIN 6W'), ('E21', 'CAHIR'), ('E25', 'CASHEL'), ('E32', 'CARRICK-ON-SUIR'), ('E34', 'TIPPERARY'), ('E41', 'THURLES'), ('E45', 'NENAGH'), ('E53', 'ROSCREA'), ('E91', 'CLONMEL'), ('F12', 'CLAREMORRIS'), ('F23', 'CASTLEBAR'), ('F26', 'BALLINA'), ('F28', 'WESTPORT'), ('F31', 'BALLINROBE'), ('F35', 'BALLYHAUNIS'), ('F42', 'ROSCOMMON'), ('F45', 'CASTLEREA'), ('F52', 'BOYLE'), ('F56', 'BALLYMOTE'), ('F91', 'SLIGO'), ('F92', 'LETTERKENNY'), ('F93', 'LIFFORD'), ('F94', 'DONEGAL'), ('H12', 'CAVAN'), ('H14', 'BELTURBET'), ('H16', 'COOTEHILL'), ('H18', 'MONAGHAN'), ('H23', 'CLONES'), ('H53', 'BALLINASLOE'), ('H54', 'TUAM'), ('H62', 'LOUGHREA'), ('H65', 'ATHENRY'), ('H71', 'CLIFDEN'), ('H91', 'GALWAY'), ('K32', 'BALBRIGGAN'), ('K34', 'SKERRIES'), ('K36', 'MALAHIDE'), ('K45', 'LUSK'), ('K56', 'RUSH'), ('K67', 'SWORDS'), ('K78', 'LUCAN'), ('N37', 'ATHLONE'), ('N39', 'LONGFORD'), ('N41', 'CARRICK-ON-SHANNON'), ('N91', 'MULLINGAR'), ('P12', 'MACROOM'), ('P14', 'CORK - CROOKSTOWN'), ('P17', 'KINSALE'), ('P24', 'COBH'), ('P25', 'MIDLETON'), ('P31', 'BALLINCOLLIG'), ('P32', 'CORK - DONOUGHMORE'), ('P36', 'YOUGHAL'), ('P43', 'CARRIGALINE'), ('P47', 'CORK - DUNMANWAY'), ('P51', 'MALLOW'), ('P56', 'CHARLEVILLE'), ('P61', 'FERMOY'), ('P67', 'MITCHELSTOWN'), ('P72', 'BANDON'), ('P75', 'BANTRY'), ('P81', 'SKIBBEREEN'), ('P85', 'CLONAKILTY'), ('R14', 'ATHY'), ('R21', 'MUINE BHEAG'), ('R32', 'PORTLAOISE'), ('R35', 'TULLAMORE'), ('R42', 'BIRR'), ('R45', 'EDENDERRY'), ('R51', 'KILDARE'), ('R56', 'CURRAGH CAMP'), ('R93', 'CARLOW'), ('R95', 'KILKENNY'), ('T12', 'CORK - BALLINHASSIG'), ('T23', 'CORK - BLARNEY'), ('T34', 'CORK - WHITECHURCH'), ('T45', 'LITTLE ISLAND'), ('T56', 'CORK - WATERGRASSHILL'), ('V14', 'SHANNON'), ('V15', 'KILRUSH'), ('V23', 'CAHERCIVEEN'), ('V31', 'LISTOWEL'), ('V35', 'KILMALLOCK'), ('V42', 'NEWCASTLE WEST'), ('V92', 'TRALEE'), ('V93', 'KILLARNEY'), ('V94', 'LIMERICK'), ('V95', 'ENNIS'), ('W12', 'NEWBRIDGE'), ('W23', 'MAYNOOTH'), ('W34', 'MONASTEREVIN'), ('W91', 'NAAS'), ('X35', 'DUNGARVAN'), ('X42', 'KILMACTHOMAS'), ('X91', 'WATERFORD'), ('Y14', 'ARKLOW'), ('Y21', 'ENNISCORTHY'), ('Y25', 'GOREY'), ('Y34', 'NEW ROSS'), ('Y35', 'WEXFORD')]\n"
          ]
        }
      ]
    },
    {
      "cell_type": "code",
      "source": [
        "def eircodeValidator(eircode):\n",
        "  eircode = sanitize_eircode(eircode);\n",
        "  match = validate_eircode(eircode)\n",
        "  if match == None:\n",
        "    print(\"Invalid Eircode\")\n",
        "  else:\n",
        "    routeKey = parse_routeKey(eircode)\n",
        "\n",
        "  for idx,entry in enumerate(KeyRouteList):\n",
        "    if(entry[0] == routeKey):\n",
        "      print(entry[1])"
      ],
      "metadata": {
        "id": "nYUeTkB211qr"
      },
      "execution_count": 73,
      "outputs": []
    },
    {
      "cell_type": "code",
      "source": [
        "def validate_eircode(eircode):\n",
        "  regex = \"^[a-zA-Z0-9]{7}$\"\n",
        "  return re.match(regex, eircode)"
      ],
      "metadata": {
        "id": "ZUNkuISBIme9"
      },
      "execution_count": 74,
      "outputs": []
    },
    {
      "cell_type": "code",
      "source": [
        "def parse_routeKey(eircode):\n",
        "  regex = \"^ *[A-Z0-9]{3}\"\n",
        "  match = re.search(regex, eircode)\n",
        "  return match.group(0)"
      ],
      "metadata": {
        "id": "okhttf_sI5q1"
      },
      "execution_count": 75,
      "outputs": []
    },
    {
      "cell_type": "code",
      "source": [
        "def sanitize_eircode(eircode):\n",
        "  eircode = eircode.replace(' ','')\n",
        "  eircode = eircode.replace('-','')\n",
        "  return eircode"
      ],
      "metadata": {
        "id": "EpcoX1S4IGPU"
      },
      "execution_count": 76,
      "outputs": []
    },
    {
      "cell_type": "code",
      "source": [
        "def findPlace(routingKey):\n",
        "  for idx,entry in enumerate(KeyRouteList):\n",
        "    if entry[0].lower() == routingKey.lower():\n",
        "      return entry[1]"
      ],
      "metadata": {
        "id": "f2UFhMFUIP5Q"
      },
      "execution_count": 77,
      "outputs": []
    },
    {
      "cell_type": "code",
      "source": [
        "eircodeValidator(\"V94-PT9X\")"
      ],
      "metadata": {
        "colab": {
          "base_uri": "https://localhost:8080/"
        },
        "id": "HYB6wfEt4pPY",
        "outputId": "e6d3cd69-f23f-4be4-9833-a0d5e4492e36"
      },
      "execution_count": 72,
      "outputs": [
        {
          "output_type": "stream",
          "name": "stdout",
          "text": [
            "V94PT9X\n",
            "<re.Match object; span=(0, 7), match='V94PT9X'>\n",
            "V94\n",
            "LIMERICK\n"
          ]
        }
      ]
    }
  ]
}